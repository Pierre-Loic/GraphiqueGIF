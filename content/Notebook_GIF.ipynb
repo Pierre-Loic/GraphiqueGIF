{
  "metadata": {
    "kernelspec": {
      "name": "python",
      "display_name": "Python (Pyodide)",
      "language": "python"
    },
    "language_info": {
      "codemirror_mode": {
        "name": "python",
        "version": 3
      },
      "file_extension": ".py",
      "mimetype": "text/x-python",
      "name": "python",
      "nbconvert_exporter": "python",
      "pygments_lexer": "ipython3",
      "version": "3.8"
    }
  },
  "nbformat_minor": 5,
  "nbformat": 4,
  "cells": [
    {
      "id": "65c76d83-e841-40a8-ae28-f1d4ce0d2906",
      "cell_type": "markdown",
      "source": "# 🛠️ Créer des graphiques animés (GIF) simplement en Python\n\n*Auteur : Pierre-Loïc Bayart*\n\nCe notebook explique comment créer simplement des graphiques animés sous forme de GIF. Seulement **3 bibliothèques Python externes** sont utilisées :\n\n- [numpy](https://numpy.org/doc/stable/) : pour **travailler avec les données** et **stocker temporairement** les images des graphiques\n\n- [matplotlib](https://matplotlib.org) : pour **générer les graphiques** (pour créer plus simplement des graphiques complexes, on peut aussi utiliser [seaborn](https://seaborn.pydata.org))\n\n- [imageio](https://imageio.readthedocs.io/en/stable/) : pour **générer le GIF** final à partir des images des graphiques\n\nLe code est découpé en **deux fonctions** : `create_chart()` pour créer les graphiques individuellement et `create_GIF()` pour créer le GIF.\n\n## Import des bibliothèques",
      "metadata": {}
    },
    {
      "id": "f520ef58-33b2-4e49-a430-e7e6bccf0369",
      "cell_type": "code",
      "source": "# Bibliothèque pour travailler avec les données\nimport numpy as np\nfrom numpy.typing import NDArray\n# Bibliothèque pour afficher les données\nimport matplotlib.pyplot as plt\n# Bibliothèque pour créer le GIF\nimport imageio\n# Bibliothèque pour afficher le GIF dans le notebook\nfrom IPython.display import Image, display\n# Bibliothèque pour le téléchargement du GIF depuis un notebook Jupyter Lite\nimport piplite\nawait piplite.install([\"ipywidgets==8.1.1\"])\nfrom ipywidgets import HTML\nimport base64",
      "metadata": {
        "trusted": true
      },
      "outputs": [],
      "execution_count": null
    },
    {
      "id": "a9ac702e-42fe-432e-ad36-45f502b1b41b",
      "cell_type": "markdown",
      "source": "## Création des graphiques",
      "metadata": {}
    },
    {
      "id": "b8e055de-5d4b-4d2f-a69f-6fa17089b3b9",
      "cell_type": "code",
      "source": "def create_chart(param: int = 0) -> NDArray[np.uint8]:\n    \"\"\"Génère un graphique et le retourne sous forme de tableau numpy.\n\n    Args:\n        param (int, optional): paramètre qui varie pour l'animation GIF (à adapter)\n\n    Returns:\n        NDArray[np.uint8]: Image du graphique sous forme de tableau numpy.\n    \"\"\"\n    # Génération des données\n    np.random.seed(param)\n    x = 50 - 100 * np.random.rand(100)\n    y = 2 * x + 10 * np.random.randn(100)\n    \n    # Création et configuration du graphique\n    fig, ax = plt.subplots(figsize=(12, 5))\n    ax.scatter(x, y, color='red')\n    ax.set_xlabel(\"Caractéristique 1\")\n    ax.set_ylabel(\"Caractéristique 2\")\n    fig.suptitle(\"Graphique d'illustration\", fontsize=20)\n    \n    # Conversion du graphique en tableau numpy\n    fig.canvas.draw()\n    image_str = fig.canvas.buffer_rgba()\n    image_np = np.frombuffer(image_str, dtype=np.uint8)\n    width, height = fig.canvas.get_width_height()\n    image_np = image_np.reshape((height, width, 4))\n    plt.close(fig)\n    \n    return image_np",
      "metadata": {
        "trusted": true
      },
      "outputs": [],
      "execution_count": null
    },
    {
      "id": "582a2f19-d0d4-49f0-8b89-ad96c73dac10",
      "cell_type": "markdown",
      "source": "## Création du GIF",
      "metadata": {}
    },
    {
      "id": "5829bb61-40fd-416c-973c-1def545cfacd",
      "cell_type": "code",
      "source": "def create_gif(file_name: str = \"chart.gif\", duration: int = 1000) -> None:\n    \"\"\"Crée et sauvegarde une animation GIF à partir de graphiques générés.\n\n    Args:\n        file_name (str, optional): Nom du fichier GIF à sauvegarder. Par défaut à \"chart.gif\".\n        duration (int, optional): Durée de chaque frame en millisecondes. Par défaut à 1000.\n    \"\"\"\n    frames = []\n    for param in range(5):\n        intermediaire = create_chart(param)\n        frames.append(intermediaire)\n    \n    # Sauvegarde de l'animation GIF\n    imageio.mimsave(file_name, frames, duration=duration, loop=0)\n    \n    # Affichage du GIF dans le notebook\n    display(Image(filename=file_name))",
      "metadata": {
        "trusted": true
      },
      "outputs": [],
      "execution_count": null
    },
    {
      "id": "d9d4209a-948e-4882-837f-fd7a1afe579c",
      "cell_type": "code",
      "source": "create_gif(duration=500)",
      "metadata": {
        "trusted": true
      },
      "outputs": [],
      "execution_count": null
    },
    {
      "id": "8be30c5f-ffb2-41a0-80a0-5f0b6842f374",
      "cell_type": "code",
      "source": "# Lire le contenu du fichier GIF\nfilename = 'chart.gif'\nwith open(filename, 'rb') as f:\n    file_content = f.read()\n\n# Encoder le contenu du fichier en base64\nb64 = base64.b64encode(file_content)\npayload = b64.decode()\n\n# Construire le bouton de téléchargement HTML\nhtml_buttons = '''<html>\n<head>\n<meta name=\"viewport\" content=\"width=device-width, initial-scale=1\">\n</head>\n<body>\n<a download=\"{filename}\" href=\"data:image/gif;base64,{payload}\" download>\n<button class=\"p-Widget jupyter-widgets jupyter-button widget-button mod-warning\">Download File</button>\n</a>\n</body>\n</html>\n'''\n\nhtml_button = html_buttons.format(payload=payload, filename=filename)\ndisplay(HTML(html_button))",
      "metadata": {
        "trusted": true
      },
      "outputs": [],
      "execution_count": null
    }
  ]
}